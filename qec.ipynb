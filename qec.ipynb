{
 "cells": [
  {
   "cell_type": "markdown",
   "metadata": {},
   "source": [
    "# Quantum Weirdness:  Exploring Quantum Error Correction"
   ]
  },
  {
   "cell_type": "markdown",
   "metadata": {},
   "source": [
    "## Introduction"
   ]
  },
  {
   "cell_type": "markdown",
   "metadata": {},
   "source": [
    "## Circuit Setup"
   ]
  },
  {
   "cell_type": "markdown",
   "metadata": {},
   "source": [
    "### Setup and Imports"
   ]
  },
  {
   "cell_type": "code",
   "execution_count": 1,
   "metadata": {},
   "outputs": [],
   "source": [
    "from pylab import *\n",
    "import pyvista as pv # for 3d objects in report\n",
    "\n",
    "from qiskit import QuantumCircuit, QuantumRegister, ClassicalRegister\n",
    "from qiskit.quantum_info import Statevector\n",
    "from qiskit.visualization import circuit_drawer\n",
    "from qiskit_aer.noise import NoiseModel, pauli_error\n",
    "\n",
    "mpl.rcParams['animation.convert_path'] = 'magick'\n",
    "from matplotlib.animation import *\n",
    "from mpl_toolkits.mplot3d import Axes3D\n",
    "# for MacOSX \n",
    "# https://stackoverflow.com/questions/63722669/matplotlib-animation-works-on-windows-and-linux-but-not-on-mac-os\n",
    "matplotlib.use(\"TkAgg\")"
   ]
  },
  {
   "cell_type": "markdown",
   "metadata": {},
   "source": [
    "#### For exporting .stl for usage in the report ([As reference](https://docs.pyvista.org/))"
   ]
  },
  {
   "cell_type": "code",
   "execution_count": 2,
   "metadata": {},
   "outputs": [],
   "source": [
    "def create_bloch_sphere(statevector, filename):\n",
    "    #debugging \n",
    "    try: \n",
    "        sphere = pv.Sphere()  # Create a unit sphere\n",
    "        plotter = pv.Plotter()\n",
    "        plotter.add_mesh(sphere, color=\"lightblue\", opacity=0.3)\n",
    "\n",
    "        # Bloch vector\n",
    "        bloch_vector = [\n",
    "            2 * real(statevector[0] * conj(statevector[1])),  # X\n",
    "            -2 * imag(statevector[0] * conj(statevector[1])), # Y\n",
    "            abs(statevector[0])**2 - abs(statevector[1])**2         # Z\n",
    "        ]\n",
    "\n",
    "        # Add arrow\n",
    "        arrow = pv.Arrow(start=(0, 0, 0), direction=bloch_vector, scale=0.5)\n",
    "        plotter.add_mesh(arrow, color=\"red\", label=\"Statevector\")\n",
    "\n",
    "        # Save to an STL file\n",
    "        combined = sphere + arrow\n",
    "        combined.save(filename)\n",
    "\n",
    "        plotter.show()\n",
    "\n",
    "        print(f\"Saved Bloch sphere with statevector as {filename}.\")\n",
    "\n",
    "    except AttributeError as e:\n",
    "        print(f\"ERROR: {e}\")"
   ]
  },
  {
   "cell_type": "code",
   "execution_count": 3,
   "metadata": {},
   "outputs": [
    {
     "name": "stdout",
     "output_type": "stream",
     "text": [
      "PyVista error: module 'numpy' has no attribute 'bool'.\n",
      "`np.bool` was a deprecated alias for the builtin `bool`. To avoid this error in existing code, use `bool` by itself. Doing this will not modify any behavior and is safe. If you specifically wanted the numpy scalar type, use `np.bool_` here.\n",
      "The aliases was originally deprecated in NumPy 1.20; for more details and guidance see the original release note at:\n",
      "    https://numpy.org/devdocs/release/1.20.0-notes.html#deprecations\n"
     ]
    }
   ],
   "source": [
    "# debugging \n",
    "try:\n",
    "    # Create a simple PyVista object to test\n",
    "    sphere = pv.Sphere()\n",
    "    plotter = pv.Plotter()\n",
    "    plotter.add_mesh(sphere, color=\"blue\", opacity=0.5)\n",
    "    plotter.show()\n",
    "except AttributeError as e:\n",
    "    print(f\"PyVista error: {e}\")"
   ]
  },
  {
   "cell_type": "markdown",
   "metadata": {},
   "source": [
    "### Making a quantum circuit and trying out different gates\n",
    "\n",
    "The **Hadamard gate** has the matrix form of \n",
    "$$ H = \\begin{pmatrix}\n",
    "\\frac{1}{\\sqrt 2} & \\frac{1}{\\sqrt 2}\n",
    "\\\\\n",
    "\\frac{1}{\\sqrt 2} & -\\frac{1}{\\sqrt 2}\n",
    "\\end{pmatrix} \n",
    "$$\n",
    "\n",
    "**Functionality**\n",
    "\n",
    "Puts the qubit in a state of superposition\n"
   ]
  },
  {
   "cell_type": "code",
   "execution_count": 3,
   "metadata": {},
   "outputs": [],
   "source": [
    "# Demo Hadamard Gate\n",
    "\n",
    "# single qubit quantum circuit\n",
    "qcHadamard = QuantumCircuit(1)\n",
    "\n",
    "state = Statevector.from_instruction(qcHadamard)\n",
    "state.draw('bloch').show() # show the qubit in |0> state\n",
    "# create_bloch_sphere(state, 'test.stl')\n",
    "\n",
    "qcHadamard.h(0) # Hadamard on our single qubit\n",
    "\n",
    "finalstate = Statevector.from_instruction(qcHadamard)\n",
    "finalstate.draw('bloch').show() # show the qubit in superposition state\n",
    "\n"
   ]
  },
  {
   "cell_type": "markdown",
   "metadata": {},
   "source": [
    "The **CNOT gate** operates on two qubits: one control and one target. Its matrix form is:\n",
    "\n",
    "$$\n",
    "CNOT = \\begin{pmatrix}\n",
    "1 & 0 & 0 & 0 \\\\\n",
    "0 & 1 & 0 & 0 \\\\\n",
    "0 & 0 & 0 & 1 \\\\\n",
    "0 & 0 & 1 & 0\n",
    "\\end{pmatrix}\n",
    "$$\n",
    "\n",
    "**Functionality**\n",
    "- If the **control qubit** is $ |0\\rangle $, the target qubit remains unchanged.\n",
    "- If the **control qubit** is $ |1\\rangle $, the target qubit flips $ |0\\rangle \\leftrightarrow |1\\rangle $ (Similar to applying the NOT operator to a bit).\n",
    "\n",
    "**Example**\n",
    "$$\n",
    "\\begin{array}{|c|c|}\n",
    "\\hline\n",
    "\\text{Input State} & \\text{Output State} \\\\\n",
    "\\hline\n",
    "|00\\rangle & |00\\rangle \\\\\n",
    "|01\\rangle & |01\\rangle \\\\\n",
    "|10\\rangle & |11\\rangle \\\\\n",
    "|11\\rangle & |10\\rangle \\\\\n",
    "\\hline\n",
    "\\end{array}\n",
    "$$\n",
    "\n",
    "#### **Entanglement**\n",
    "The CNOT gate can create entanglement when the control qubit is in a superposition state. For example:\n",
    "- Starting with $ |+\\rangle|0\\rangle $, where $ |+\\rangle = \\frac{|0\\rangle + |1\\rangle}{\\sqrt{2}} $, applying the CNOT gate produces the **Bell state**:\n",
    "$$\n",
    "\\frac{|00\\rangle + |11\\rangle}{\\sqrt{2}}\n",
    "$$\n",
    "which is an entangled state.\n"
   ]
  },
  {
   "cell_type": "code",
   "execution_count": 29,
   "metadata": {},
   "outputs": [
    {
     "data": {
      "text/latex": [
       "$$\\frac{\\sqrt{2}}{2} |00\\rangle+\\frac{\\sqrt{2}}{2} |11\\rangle$$"
      ],
      "text/plain": [
       "<IPython.core.display.Latex object>"
      ]
     },
     "execution_count": 29,
     "metadata": {},
     "output_type": "execute_result"
    }
   ],
   "source": [
    "# Demo CNOT Gate\n",
    "\n",
    "# Create circuit\n",
    "qcCNOT = QuantumCircuit(2)\n",
    "qcCNOT.h(0)  # Hadamard on qubit 0\n",
    "qcCNOT.cx(0, 1)  # CNOT with control=0, target=1\n",
    "\n",
    "\n",
    "# Display circuit and save as image\n",
    "circuit_drawer(qcCNOT, output='mpl', filename='figures/qc.png').show()\n",
    "\n",
    "# show vector representation of statevector\n",
    "state = Statevector.from_instruction(qcCNOT)\n",
    "state.draw('latex')\n"
   ]
  },
  {
   "cell_type": "markdown",
   "metadata": {},
   "source": [
    "### Building the circuits we will be using"
   ]
  },
  {
   "cell_type": "code",
   "execution_count": null,
   "metadata": {},
   "outputs": [],
   "source": [
    "# For 3-bit repetition code [[3, 1, 3]]\n",
    "qc1 = QuantumCircuit(3, 1) # 3 qubits and 1 classical bit\n",
    "\n",
    "# initialize and prepare logical qubit\n",
    "qc1.initialize([1, 0], 0)\n",
    "qc1.cx(0, 1)\n",
    "qc1.cx(0, 2)\n",
    "\n",
    "currState = Statevector.from_instruction(qc)\n",
    "currState.draw('bloch').show()\n",
    "\n",
    "circuit_drawer(qc, output='mpl').show()\n",
    "\n",
    "\n"
   ]
  },
  {
   "cell_type": "markdown",
   "metadata": {},
   "source": [
    "## Noise Simulation"
   ]
  },
  {
   "cell_type": "markdown",
   "metadata": {},
   "source": [
    "### Mix and match different types of error to simulate a real environment"
   ]
  },
  {
   "cell_type": "code",
   "execution_count": null,
   "metadata": {},
   "outputs": [],
   "source": [
    "# Pauli X, or, bit-flip error\n",
    "qc1.\n"
   ]
  },
  {
   "cell_type": "code",
   "execution_count": 8,
   "metadata": {},
   "outputs": [],
   "source": [
    "# Pauli Z, or, phase-flip error\n",
    "\n"
   ]
  },
  {
   "cell_type": "markdown",
   "metadata": {},
   "source": [
    "## Error Correction"
   ]
  },
  {
   "cell_type": "markdown",
   "metadata": {},
   "source": [
    "## Analysis"
   ]
  },
  {
   "cell_type": "markdown",
   "metadata": {},
   "source": [
    "## Conclusion"
   ]
  }
 ],
 "metadata": {
  "kernelspec": {
   "display_name": "base",
   "language": "python",
   "name": "python3"
  },
  "language_info": {
   "codemirror_mode": {
    "name": "ipython",
    "version": 3
   },
   "file_extension": ".py",
   "mimetype": "text/x-python",
   "name": "python",
   "nbconvert_exporter": "python",
   "pygments_lexer": "ipython3",
   "version": "3.12.2"
  }
 },
 "nbformat": 4,
 "nbformat_minor": 2
}
