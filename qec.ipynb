{
 "cells": [
  {
   "cell_type": "markdown",
   "metadata": {},
   "source": [
    "# **Quantum Weirdness:  Exploring Quantum Error Correction**"
   ]
  },
  {
   "cell_type": "markdown",
   "metadata": {},
   "source": [
    "## Circuit Setup, IBM Channel Setup, and Imports"
   ]
  },
  {
   "cell_type": "markdown",
   "metadata": {},
   "source": [
    "### Load in IBM account"
   ]
  },
  {
   "cell_type": "code",
   "execution_count": 9,
   "metadata": {},
   "outputs": [],
   "source": [
    "import os\n",
    "\n",
    "# env variables so that my key doesn't get leaked\n",
    "from dotenv import load_dotenv\n",
    "load_dotenv()\n",
    "token = os.getenv(\"API_KEY\")\n",
    "\n",
    "from qiskit_ibm_runtime import QiskitRuntimeService\n",
    " \n",
    "# get my IBM acc\n",
    "QiskitRuntimeService.save_account(\n",
    "  token=token,\n",
    "  channel=\"ibm_quantum\", # `channel` distinguishes between different account types\n",
    "  overwrite=True\n",
    ")\n"
   ]
  },
  {
   "cell_type": "markdown",
   "metadata": {},
   "source": [
    "\n",
    "### Imports"
   ]
  },
  {
   "cell_type": "code",
   "execution_count": 2,
   "metadata": {},
   "outputs": [],
   "source": [
    "from pylab import *\n",
    "\n",
    "from collections import Counter\n",
    "\n",
    "from qiskit_ibm_runtime import QiskitRuntimeService, SamplerV2 as Sampler\n",
    "from qiskit import QuantumCircuit, transpile\n",
    "from qiskit import QuantumRegister, ClassicalRegister\n",
    "from qiskit.quantum_info import Statevector\n",
    "from qiskit.visualization import circuit_drawer, plot_histogram\n",
    "from qiskit_aer import AerSimulator\n",
    "from qiskit_aer.noise import NoiseModel, pauli_error\n",
    "\n",
    "\n",
    "# for MacOSX \n",
    "# https://stackoverflow.com/questions/63722669/matplotlib-animation-works-on-windows-and-linux-but-not-on-mac-os\n",
    "matplotlib.use(\"TkAgg\")"
   ]
  },
  {
   "cell_type": "markdown",
   "metadata": {},
   "source": [
    "### [Test if IBM Channel created correctly](https://docs.quantum.ibm.com/guides/setup-channel)"
   ]
  },
  {
   "cell_type": "code",
   "execution_count": null,
   "metadata": {},
   "outputs": [
    {
     "name": "stdout",
     "output_type": "stream",
     "text": [
      "job id: cxb4fexztp30008g7460\n",
      "PrimitiveResult([SamplerPubResult(data=DataBin(meas=BitArray(<shape=(), num_shots=4096, num_bits=2>)), metadata={'circuit_metadata': {}})], metadata={'execution': {'execution_spans': ExecutionSpans([SliceSpan(<start='2024-12-09 01:28:29', stop='2024-12-09 01:30:11', size=4096>)])}, 'version': 2})\n"
     ]
    }
   ],
   "source": [
    "# Create empty circuit\n",
    "example_circuit = QuantumCircuit(2)\n",
    "example_circuit.measure_all()\n",
    " \n",
    "# You'll need to specify the credentials when initializing QiskitRuntimeService, if they were not previously saved.\n",
    "service = QiskitRuntimeService()\n",
    "backend = service.least_busy(operational=True, simulator=False)\n",
    " \n",
    "sampler = Sampler(backend)\n",
    "job = sampler.run([example_circuit])\n",
    "print(f\"job id: {job.job_id()}\")\n",
    "result = job.result()\n",
    "print(result)"
   ]
  },
  {
   "cell_type": "markdown",
   "metadata": {},
   "source": [
    "### Making a quantum circuit and trying out different gates\n",
    "\n",
    "The **Hadamard gate** has the matrix form of \n",
    "$$ H = \\begin{pmatrix}\n",
    "\\frac{1}{\\sqrt 2} & \\frac{1}{\\sqrt 2}\n",
    "\\\\\n",
    "\\frac{1}{\\sqrt 2} & -\\frac{1}{\\sqrt 2}\n",
    "\\end{pmatrix} \n",
    "$$\n",
    "\n",
    "**Functionality**\n",
    "\n",
    "Puts the qubit in a state of superposition\n"
   ]
  },
  {
   "cell_type": "code",
   "execution_count": 83,
   "metadata": {},
   "outputs": [],
   "source": [
    "# Demo Hadamard Gate\n",
    "\n",
    "# single qubit quantum circuit\n",
    "qubit = QuantumRegister(1, name='q')\n",
    "bit = ClassicalRegister(1, name='A') # 1 classical bit called A\n",
    "hadamard_circuit = QuantumCircuit(qubit, bit)\n",
    "\n",
    "# reassign to make a bit more clear\n",
    "q0 = qubit\n",
    "A = bit\n",
    "\n",
    "state = Statevector.from_instruction(hadamard_circuit)\n",
    "state.draw('bloch').show() # show the qubit in |0> state\n",
    "\n",
    "hadamard_circuit.h(q0) # Hadamard on our single qubit\n",
    "\n",
    "finalstate = Statevector.from_instruction(hadamard_circuit)\n",
    "finalstate.draw('bloch').show() # show the qubit in superposition state\n",
    "\n",
    "hadamard_circuit.measure(q0, bit)\n",
    "hadamard_circuit.draw('mpl').show()\n",
    "\n"
   ]
  },
  {
   "cell_type": "markdown",
   "metadata": {},
   "source": [
    "The **CNOT gate** operates on two qubits: one control and one target. Its matrix form is:\n",
    "\n",
    "$$\n",
    "CNOT = \\begin{pmatrix}\n",
    "1 & 0 & 0 & 0 \\\\\n",
    "0 & 1 & 0 & 0 \\\\\n",
    "0 & 0 & 0 & 1 \\\\\n",
    "0 & 0 & 1 & 0\n",
    "\\end{pmatrix}\n",
    "$$\n",
    "\n",
    "**Functionality**\n",
    "- If the **control qubit** is $ |0\\rangle $, the target qubit remains unchanged.\n",
    "- If the **control qubit** is $ |1\\rangle $, the target qubit flips $ |0\\rangle \\leftrightarrow |1\\rangle $ (Similar to applying the NOT operator to a bit).\n",
    "\n",
    "**Example**\n",
    "$$\n",
    "\\begin{array}{|c|c|}\n",
    "\\hline\n",
    "\\text{Input State} & \\text{Output State} \\\\\n",
    "\\hline\n",
    "|00\\rangle & |00\\rangle \\\\\n",
    "|01\\rangle & |01\\rangle \\\\\n",
    "|10\\rangle & |11\\rangle \\\\\n",
    "|11\\rangle & |10\\rangle \\\\\n",
    "\\hline\n",
    "\\end{array}\n",
    "$$\n",
    "\n",
    "#### **Entanglement**\n",
    "The CNOT gate can create entanglement when the control qubit is in a superposition state. For example:\n",
    "- Starting with $ |+\\rangle|0\\rangle $, where $ |+\\rangle = \\frac{|0\\rangle + |1\\rangle}{\\sqrt{2}} $, applying the CNOT gate produces the **Bell state**:\n",
    "$$\n",
    "\\frac{|00\\rangle + |11\\rangle}{\\sqrt{2}}\n",
    "$$\n",
    "which means that both qubits are entangled and have a $\\frac 1 2 = 50\\%$ chance to be in the 0 basis state or 1 basis state.\n"
   ]
  },
  {
   "cell_type": "code",
   "execution_count": 14,
   "metadata": {},
   "outputs": [
    {
     "data": {
      "text/latex": [
       "$$\\frac{\\sqrt{2}}{2} |00\\rangle+\\frac{\\sqrt{2}}{2} |11\\rangle$$"
      ],
      "text/plain": [
       "<IPython.core.display.Latex object>"
      ]
     },
     "execution_count": 14,
     "metadata": {},
     "output_type": "execute_result"
    }
   ],
   "source": [
    "# Demo CNOT Gate\n",
    "\n",
    "# create circuit\n",
    "\n",
    "qubits = QuantumRegister(2)\n",
    "bell_circuit = QuantumCircuit(qubits)\n",
    "q0, q1 = qubits\n",
    "bell_circuit.h(q0)  # Hadamard on qubit 0\n",
    "bell_circuit.cx(q0, q1)  # CNOT with control=0, target=1\n",
    "\n",
    "# display circuit and save as image (other way to draw circuit)\n",
    "circuit_drawer(bell_circuit, output='mpl', filename='figures/qc.png').show()\n",
    "\n",
    "# show vector representation of statevector using Statevector class in Qiskit\n",
    "state = Statevector.from_instruction(bell_circuit)\n",
    "state.draw('latex')\n"
   ]
  },
  {
   "cell_type": "markdown",
   "metadata": {},
   "source": [
    "### Implementing the error correction codes ([For Shor's Code](https://quantumcomputinguk.org/tutorials/quantum-error-correction-shor-code-in-qiskit))"
   ]
  },
  {
   "cell_type": "code",
   "execution_count": null,
   "metadata": {},
   "outputs": [],
   "source": [
    "def encoding(qc, q0, q1, q2):\n",
    "    \"\"\"Encoding process, encode q0 state on other qubits\n",
    "\n",
    "    Args:\n",
    "        qc (QuantumCircuit): _description_\n",
    "        q0 (_type_): Logical Qubit\n",
    "        q1 (_type_): Ancilla Qubit 1\n",
    "        q2 (_type_): Ancilla Qubit 2\n",
    "    \"\"\"\n",
    "    qc.cx(0, 1)\n",
    "    qc.cx(0, 2)\n",
    "\n",
    "def decoding(qc, q0, q1, q2):\n",
    "    \"\"\"decoding process to reverse encoding\n",
    "\n",
    "    Args:\n",
    "        qc (QuantumCircuit): _description_\n",
    "        q0 (_type_): Logical Qubit\n",
    "        q1 (_type_): Ancilla Qubit 1\n",
    "        q2 (_type_): Ancilla Qubit 2\n",
    "    \"\"\"\n",
    "    qc.cx(0, 1)\n",
    "    qc.cx(0, 2)\n",
    "    # qc.ccx(2, 1, 0)\n",
    "\n",
    "def simulate_error():\n",
    "    \"\"\"Bit-flip error toy model simulation from Qiskit documentation\n",
    "    \"\"\"\n",
    "    # example error probabilities\n",
    "    p_reset = 0.03\n",
    "    p_meas = 0.1\n",
    "    p_gate1 = 0.05\n",
    "\n",
    "    # quantumError objects\n",
    "    # error_reset = pauli_error([('X', p_reset), ('I', 1 - p_reset)]) #reset error \n",
    "    error_meas = pauli_error([('X',p_meas), ('I', 1 - p_meas)]) # measurement error\n",
    "    error_gate1 = pauli_error([('X',p_gate1), ('I', 1 - p_gate1)]) # single-qubit gate error\n",
    "    error_gate2 = error_gate1.tensor(error_gate1) #two-qubit gate error\n",
    "\n",
    "    # add errors to noise model\n",
    "    noise_bit_flip = NoiseModel()\n",
    "    # noise_bit_flip.add_all_qubit_quantum_error(error_reset, \"reset\")\n",
    "    noise_bit_flip.add_all_qubit_quantum_error(error_meas, \"measure\")\n",
    "    noise_bit_flip.add_all_qubit_quantum_error(error_gate1, [\"u1\", \"u2\", \"u3\"])\n",
    "    noise_bit_flip.add_all_qubit_quantum_error(error_gate2, [\"cx\"]) # errors on CNOT \n",
    "\n",
    "    print(noise_bit_flip)\n",
    "    return noise_bit_flip\n",
    "\n",
    "def three_bit_repetition_code():\n",
    "    \"\"\"Implementation of a 3-Bit Repetition code \n",
    "\n",
    "    Returns:\n",
    "        QuantumCircuit: The circuit after measurement\n",
    "    \"\"\"\n",
    "    # For 3-bit repetition code [[3, 1, 3]]\n",
    "    circuit = QuantumCircuit(3) # 3 qubits \n",
    "\n",
    "    # encoding 2 ancillary qubits\n",
    "    encoding(circuit, 0, 1, 2)\n",
    "\n",
    "    # decoding, apply CNOTs on ancillary qubits again \n",
    "    decoding(circuit, 2, 1, 0)\n",
    "\n",
    "    # toffoli gate (ONLY USE IF WE WANT TO PERFORM DIRECT MAJORITY VOTING AT THE CIRCUIT LEVEL)(Collapse result into single qubit)\n",
    "    # circuit.ccx(2, 1, 0)\n",
    "\n",
    "    # circuit.measure(0, 0) # measure logical qubit and save result in our classical bit\n",
    "\n",
    "    # measure all qubits\n",
    "    circuit.barrier()\n",
    "    circuit.measure_all() # saves the results of the 3 qubits into 3 classical bits\n",
    "\n",
    "    circuit.draw('mpl').show()\n",
    "\n",
    "    return circuit\n",
    "\n",
    "def no_error_correction():\n",
    "    \"\"\"Implementation of a 3-Qubit Circuit with no type of error correction\n",
    "\n",
    "    Returns:\n",
    "        QuantumCircuit: The circuit after measurement\n",
    "    \"\"\"\n",
    "    circuit = QuantumCircuit(3) # 3 qubits\n",
    "\n",
    "    # encoding 2 physical qubits\n",
    "    encoding(circuit, 0, 1, 2)\n",
    "\n",
    "    # measure all qubits\n",
    "    circuit.measure_all()\n",
    "\n",
    "    circuit.draw('mpl').show()\n",
    "\n",
    "    return circuit\n",
    "\n",
    "def shors_encoding(qc, logical_qubit, ancillas):\n",
    "    \"\"\"Encoding process for Shor's Code.\n",
    "\n",
    "    Args:\n",
    "        qc (QuantumCircuit): QuantumCircuit to encode on.\n",
    "        logical_qubit (int): Index of the logical qubit.\n",
    "        ancillas (list[int]): List of ancillary qubit indices.\n",
    "    \"\"\"\n",
    "    # Bit-flip protection\n",
    "    qc.cx(logical_qubit, ancillas[2])\n",
    "    qc.cx(logical_qubit, ancillas[5])\n",
    "\n",
    "    # Apply Hadamard to prepare for phase-flip protection\n",
    "    qc.h(logical_qubit)\n",
    "    qc.h(ancillas[2])\n",
    "    qc.h(ancillas[5])\n",
    "\n",
    "    # Encode phase-flip protection across each group\n",
    "    # 1st block\n",
    "    qc.cx(logical_qubit, ancillas[0])\n",
    "    qc.cx(logical_qubit, ancillas[1])\n",
    "\n",
    "    # 2nd block\n",
    "    qc.cx(logical_qubit + 3, ancillas[3])\n",
    "    qc.cx(logical_qubit + 3, ancillas[4])\n",
    "\n",
    "    # 3rd block\n",
    "    qc.cx(logical_qubit + 6, ancillas[6])\n",
    "    qc.cx(logical_qubit + 6, ancillas[7])\n",
    "\n",
    "def shors_decoding(qc, logical_qubit, ancillas):\n",
    "    \"\"\"Decoding process for Shor's Code.\n",
    "\n",
    "    Args:\n",
    "        qc (QuantumCircuit): QuantumCircuit to decode on.\n",
    "        logical_qubit (int): Index of the logical qubit.\n",
    "        ancillas (list[int]): List of ancillary qubit indices.\n",
    "    \"\"\"\n",
    "    # Reverse phase-flip protection\n",
    "    # 1st block\n",
    "    qc.cx(logical_qubit, ancillas[0])\n",
    "    qc.cx(logical_qubit, ancillas[1])\n",
    "\n",
    "    # 2nd block\n",
    "    qc.cx(logical_qubit + 3, ancillas[3])\n",
    "    qc.cx(logical_qubit + 3, ancillas[4])\n",
    "\n",
    "    # 3rd block\n",
    "    qc.cx(logical_qubit + 6, ancillas[6])\n",
    "    qc.cx(logical_qubit + 6, ancillas[7])\n",
    "    \n",
    "    # Toffoli gates\n",
    "    qc.ccx(ancillas[0], ancillas[1], logical_qubit)\n",
    "    qc.ccx(ancillas[3], ancillas[4], logical_qubit + 3)\n",
    "    qc.ccx(ancillas[6], ancillas[7], logical_qubit + 6)\n",
    "\n",
    "    # Undo Hadamard\n",
    "    qc.h(logical_qubit)\n",
    "    qc.h(ancillas[2])\n",
    "    qc.h(ancillas[5])\n",
    "\n",
    "    # Reverse bit-flip protection\n",
    "    qc.cx(logical_qubit, ancillas[2])\n",
    "    qc.cx(logical_qubit, ancillas[5])\n",
    "    qc.ccx(ancillas[2], ancillas[5], logical_qubit)\n",
    "\n",
    "def shors_code():\n",
    "    \"\"\"Implementation of Shor's Code with noise simulation.\n",
    "\n",
    "    Returns:\n",
    "        QuantumCircuit: Shor's Code circuit with measurement.\n",
    "    \"\"\"\n",
    "    # 9 qubits: 1 logical + 8 ancillas, 1 classical bit for logical measurement\n",
    "    qc = QuantumCircuit(9, 1)\n",
    "\n",
    "    logical_qubit = 0\n",
    "    ancillas = [1, 2, 3, 4, 5, 6, 7, 8]\n",
    "\n",
    "    qc.initialize([1, 0], logical_qubit)\n",
    "\n",
    "    # encoding: Encode the logical qubit into 9 qubits\n",
    "    shors_encoding(qc, logical_qubit, ancillas)\n",
    "\n",
    "    # for figure \n",
    "    # qc.barrier()\n",
    "    # qc.x(4)  # Simulate a bit-flip error on qubit 4\n",
    "    # qc.z(7)  # Simulate a phase-flip error on qubit 7\n",
    "    # qc.barrier()\n",
    "\n",
    "    # decoding: Reverse the encoding to recover the logical qubit\n",
    "    shors_decoding(qc, logical_qubit, ancillas)\n",
    "\n",
    "    # Measure the logical qubit\n",
    "    qc.barrier\n",
    "    qc.measure(0, 0)\n",
    "\n",
    "    # for figure\n",
    "    # qc.draw('mpl').show()\n",
    "\n",
    "    return qc\n",
    "\n",
    "def no_error_correction_shor():\n",
    "    \"\"\"Implementation of Shor's Code with noise simulation.\n",
    "\n",
    "    Returns:\n",
    "        QuantumCircuit: Shor's Code circuit with measurement.\n",
    "    \"\"\"\n",
    "    # 9 qubits: 1 logical + 8 ancillas, 1 classical bit for logical measurement\n",
    "    qc = QuantumCircuit(9, 1)\n",
    "\n",
    "    logical_qubit = 0\n",
    "    ancillas = [1, 2, 3, 4, 5, 6, 7, 8]\n",
    "\n",
    "    qc.initialize([1, 0], logical_qubit)\n",
    "\n",
    "    # Encoding: Encode the logical qubit into 9 qubits\n",
    "    shors_encoding(qc, logical_qubit, ancillas)\n",
    "\n",
    "    # for figure \n",
    "    # qc.barrier()\n",
    "    # qc.x(4)  # Simulate a bit-flip error on qubit 4\n",
    "    # qc.z(7)  # Simulate a phase-flip error on qubit 7\n",
    "    # qc.barrier()\n",
    "\n",
    "    # Measure the logical qubit\n",
    "    qc.barrier\n",
    "    qc.measure(0, 0)\n",
    "\n",
    "    return qc"
   ]
  },
  {
   "cell_type": "markdown",
   "metadata": {},
   "source": [
    "### Test the error correction codes against [simulated noise](https://qiskit.github.io/qiskit-aer/tutorials/3_building_noise_models.html)"
   ]
  },
  {
   "cell_type": "code",
   "execution_count": 13,
   "metadata": {},
   "outputs": [
    {
     "name": "stdout",
     "output_type": "stream",
     "text": [
      "NoiseModel:\n",
      "  Basis gates: ['cx', 'id', 'rz', 'sx', 'u1', 'u2', 'u3']\n",
      "  Instructions with noise: ['u1', 'u3', 'cx', 'u2', 'measure']\n",
      "  All-qubits errors: ['measure', 'u1', 'u2', 'u3', 'cx']\n"
     ]
    }
   ],
   "source": [
    "qc_3bit = three_bit_repetition_code()\n",
    "qc_nocode = no_error_correction()\n",
    "noise_bit_flip = simulate_error()\n",
    "\n",
    "# Transpile for simulator\n",
    "simulator = AerSimulator(noise_model=noise_bit_flip)\n",
    "circ = transpile(qc_3bit, simulator) \n",
    "circ1 = transpile(qc_nocode, simulator)\n",
    "\n",
    "# Run and get counts for non-corrected circuit\n",
    "result_uncorrected = simulator.run(circ1).result()\n",
    "counts_uncorrected = result_uncorrected.get_counts(0)\n",
    "\n",
    "# Run and get counts for corrected circuit\n",
    "result_corrected = simulator.run(circ).result()\n",
    "counts_corrected = result_corrected.get_counts(0)\n",
    "\n",
    "# plot\n",
    "fig, axes = subplots(1, 2, figsize=(10, 5))\n",
    "\n",
    "plot_histogram(counts_uncorrected, ax=axes[0])\n",
    "axes[0].set_title(\"No 3-Bit Repetition Code\")\n",
    "\n",
    "plot_histogram(counts_corrected, ax=axes[1])\n",
    "axes[1].set_title(\"3-Bit Repetition Code\")\n",
    "\n",
    "tight_layout()\n",
    "show()\n"
   ]
  },
  {
   "cell_type": "markdown",
   "metadata": {},
   "source": [
    "### Test Shor's Code"
   ]
  },
  {
   "cell_type": "code",
   "execution_count": 10,
   "metadata": {},
   "outputs": [],
   "source": [
    "# Ideal simulator and execution\n",
    "circ_shor = shors_code()\n",
    "circ_no_shor = no_error_correction_shor()\n",
    "\n",
    "sim_ideal = AerSimulator()\n",
    "\n",
    "result_ideal = sim_ideal.run(circ_shor).result()\n",
    "counts_shor = result_ideal.get_counts(0)\n",
    "\n",
    "result_ideal1 = sim_ideal.run(circ_no_shor).result()\n",
    "counts_no_shor = result_ideal1.get_counts(0)\n",
    "\n",
    "# plot\n",
    "fig, axes = subplots(1, 2, figsize=(10, 5))\n",
    "\n",
    "plot_histogram(counts_no_shor, ax=axes[0])\n",
    "axes[0].set_title(\"No Shor's Code\")\n",
    "\n",
    "plot_histogram(counts_shor, ax=axes[1])\n",
    "axes[1].set_title(\"With Shor's Code\")\n",
    "\n",
    "tight_layout()\n",
    "show()"
   ]
  },
  {
   "cell_type": "markdown",
   "metadata": {},
   "source": [
    "## Run the error correction codes on quantum hardware"
   ]
  },
  {
   "cell_type": "markdown",
   "metadata": {},
   "source": [
    "#### Without Shor's Code"
   ]
  },
  {
   "cell_type": "code",
   "execution_count": 7,
   "metadata": {},
   "outputs": [
    {
     "name": "stdout",
     "output_type": "stream",
     "text": [
      "<IBMBackend('ibm_brisbane')>\n"
     ]
    },
    {
     "name": "stderr",
     "output_type": "stream",
     "text": [
      "/var/folders/24/ggylxxcj3xq362xbyt3gkg_00000gn/T/ipykernel_41701/18902787.py:11: DeprecationWarning: backend.run() and related sessions methods are deprecated  as of qiskit-ibm-runtime 0.23 and will be removed no sooner than 6 months after the release date. More details can be found in the primitives migration guide https://docs.quantum.ibm.com/migration-guides/qiskit-runtime.\n",
      "  job = backend.run(transpiled_circuit)\n"
     ]
    },
    {
     "name": "stdout",
     "output_type": "stream",
     "text": [
      "{'0': 1948, '1': 2052}\n"
     ]
    }
   ],
   "source": [
    "qc_shor = shors_code()\n",
    "qc_no_shor = no_error_correction_shor()\n",
    "\n",
    "service = QiskitRuntimeService()\n",
    "backend = service.least_busy(min_num_qubits=9, operational=True, simulator=False)\n",
    "print(backend)\n",
    "\n",
    "# transpile the circuit for the backend\n",
    "transpiled_circuit = transpile(qc_no_shor, backend, optimization_level=2)\n",
    "\n",
    "job = backend.run(transpiled_circuit)\n",
    "result = job.result()\n",
    "real_counts_no_shor = result.get_counts()\n",
    "print(real_counts_no_shor)"
   ]
  },
  {
   "cell_type": "markdown",
   "metadata": {},
   "source": [
    "#### With Shor's Code"
   ]
  },
  {
   "cell_type": "code",
   "execution_count": 8,
   "metadata": {},
   "outputs": [
    {
     "name": "stdout",
     "output_type": "stream",
     "text": [
      "<IBMBackend('ibm_brisbane')>\n"
     ]
    },
    {
     "name": "stderr",
     "output_type": "stream",
     "text": [
      "/var/folders/24/ggylxxcj3xq362xbyt3gkg_00000gn/T/ipykernel_41701/2952755171.py:7: DeprecationWarning: backend.run() and related sessions methods are deprecated  as of qiskit-ibm-runtime 0.23 and will be removed no sooner than 6 months after the release date. More details can be found in the primitives migration guide https://docs.quantum.ibm.com/migration-guides/qiskit-runtime.\n",
      "  job = backend.run(transpiled_circuit)\n"
     ]
    },
    {
     "name": "stdout",
     "output_type": "stream",
     "text": [
      "{'0': 3384, '1': 616}\n"
     ]
    }
   ],
   "source": [
    "service = QiskitRuntimeService()\n",
    "backend = service.least_busy(min_num_qubits=9, operational=True, simulator=False)\n",
    "print(backend)\n",
    "# transpile the circuit for the backend\n",
    "transpiled_circuit = transpile(qc_shor, backend, optimization_level=2)\n",
    "\n",
    "job = backend.run(transpiled_circuit)\n",
    "result = job.result()\n",
    "real_counts_shor = result.get_counts()\n",
    "print(real_counts_shor)"
   ]
  },
  {
   "cell_type": "markdown",
   "metadata": {},
   "source": [
    "### Graph histograms"
   ]
  },
  {
   "cell_type": "code",
   "execution_count": 9,
   "metadata": {},
   "outputs": [
    {
     "name": "stderr",
     "output_type": "stream",
     "text": [
      "2024-12-10 20:53:43.590 python[41701:3795398] The class 'NSSavePanel' overrides the method identifier.  This method is implemented by class 'NSWindow'\n"
     ]
    }
   ],
   "source": [
    "\n",
    "# plot\n",
    "fig, axes = subplots(1, 2, figsize=(10, 5))\n",
    "plot_histogram(real_counts_no_shor, ax=axes[0])\n",
    "axes[0].set_title(\"No Shor's Code On Quantum Hardware\")\n",
    "\n",
    "plot_histogram(real_counts_shor, ax=axes[1])\n",
    "axes[1].set_title(\"With Shor's Code On Quantum Hardware\")\n",
    "\n",
    "tight_layout()\n",
    "show()"
   ]
  },
  {
   "cell_type": "markdown",
   "metadata": {},
   "source": [
    "## Analysis"
   ]
  },
  {
   "cell_type": "markdown",
   "metadata": {},
   "source": [
    "### Auxiliary Functions"
   ]
  },
  {
   "cell_type": "code",
   "execution_count": 14,
   "metadata": {},
   "outputs": [
    {
     "name": "stdout",
     "output_type": "stream",
     "text": [
      "3-Bit Repetition Code Stats: {'total_count': 1024, 'correct_count': 987, 'incorrect_count': 37, 'fidelity': 0.9638671875, 'error_percentage': 3.61328125}\n",
      "No 3-Bit Repetition Code Stats: {'total_count': 1024, 'correct_count': 924, 'incorrect_count': 100, 'fidelity': 0.90234375, 'error_percentage': 9.765625}\n",
      "Shor's Code Simulated Stats: {'total_count': 1024, 'correct_count': 1024, 'incorrect_count': 0, 'fidelity': 1.0, 'error_percentage': 0.0}\n",
      "No Shor's Code Simulated Stats: {'total_count': 1024, 'correct_count': 555, 'incorrect_count': 469, 'fidelity': 0.5419921875, 'error_percentage': 45.80078125}\n",
      "Shor's Code Stats: {'total_count': 4000, 'correct_count': 3384, 'incorrect_count': 616, 'fidelity': 0.846, 'error_percentage': 15.400000000000002}\n",
      "No Shor's Code Stats: {'total_count': 4000, 'correct_count': 1948, 'incorrect_count': 2052, 'fidelity': 0.487, 'error_percentage': 51.300000000000004}\n"
     ]
    }
   ],
   "source": [
    "def analyze_counts(counts, intended_state=\"0\"):\n",
    "    \"\"\"\n",
    "    Simplifies the process of majority voting for the bitstring since we didn't add the Toffoli gates. Also, calculates fidelity/error.\n",
    "    Args:\n",
    "        counts (dict): Measurement results as {bitstring: count}.\n",
    "        intended_state (str): Logical qubit state intended (default is \"0\").\n",
    "    \n",
    "    Returns:\n",
    "        dict: Summary including total shots, correct counts, incorrect counts, fidelity, and error percentage.\n",
    "    \"\"\"\n",
    "    correct_count = 0\n",
    "    total_count = sum(list(counts.values())) # force to a list to avoid that pesky TypeError\n",
    "    \n",
    "    for bitstring, count in counts.items(): # tokenize the key-value pairs\n",
    "        # Count 0s and 1s to determine majority logical state\n",
    "        num_zeros = bitstring.count(\"0\")\n",
    "        num_ones = bitstring.count(\"1\")\n",
    "        logical_state = \"0\" if num_zeros > num_ones else \"1\"\n",
    "        \n",
    "        # Update correct count if logical state matches intended state\n",
    "        if logical_state == intended_state:\n",
    "            correct_count += count\n",
    "\n",
    "    # Calculate fidelity and error percentage\n",
    "    fidelity = correct_count / total_count if total_count > 0 else 0 #avoid division by 0\n",
    "    error_percentage = (1 - fidelity) * 100  # Convert to percentage\n",
    "\n",
    "    return {\n",
    "        \"total_count\": total_count,\n",
    "        \"correct_count\": correct_count,\n",
    "        \"incorrect_count\": total_count - correct_count,\n",
    "        \"fidelity\": fidelity,\n",
    "        \"error_percentage\": error_percentage\n",
    "    }\n",
    "\n",
    "# stats\n",
    "print(f'3-Bit Repetition Code Stats: {analyze_counts(counts_corrected)}')\n",
    "print(f'No 3-Bit Repetition Code Stats: {analyze_counts(counts_uncorrected)}')\n",
    "print(f'Shor\\'s Code Simulated Stats: {analyze_counts(counts_shor)}')\n",
    "print(f'No Shor\\'s Code Simulated Stats: {analyze_counts(counts_no_shor)}')\n",
    "print(f'Shor\\'s Code Stats: {analyze_counts(real_counts_shor)}')\n",
    "print(f'No Shor\\'s Code Stats: {analyze_counts(real_counts_no_shor)}')\n"
   ]
  }
 ],
 "metadata": {
  "kernelspec": {
   "display_name": "base",
   "language": "python",
   "name": "python3"
  },
  "language_info": {
   "codemirror_mode": {
    "name": "ipython",
    "version": 3
   },
   "file_extension": ".py",
   "mimetype": "text/x-python",
   "name": "python",
   "nbconvert_exporter": "python",
   "pygments_lexer": "ipython3",
   "version": "3.12.2"
  }
 },
 "nbformat": 4,
 "nbformat_minor": 2
}
